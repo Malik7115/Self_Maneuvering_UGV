{
 "metadata": {
  "language_info": {
   "codemirror_mode": {
    "name": "ipython",
    "version": 3
   },
   "file_extension": ".py",
   "mimetype": "text/x-python",
   "name": "python",
   "nbconvert_exporter": "python",
   "pygments_lexer": "ipython3",
   "version": "3.8.5-final"
  },
  "orig_nbformat": 2,
  "kernelspec": {
   "name": "python38564bitvenvvenv8c8ce7f69d3a4c498bfdc191294f45b8",
   "display_name": "Python 3.8.5 64-bit ('venv': venv)",
   "language": "python"
  }
 },
 "nbformat": 4,
 "nbformat_minor": 2,
 "cells": [
  {
   "cell_type": "code",
   "execution_count": 10,
   "metadata": {},
   "outputs": [],
   "source": [
    "import tensorflow as tf\n",
    "import numpy as np\n",
    "import cv2\n",
    "import os\n",
    "import pandas as pd\n",
    "import matplotlib.pyplot as plt\n",
    "import pathlib\n",
    "AUTOTUNE = tf.data.experimental.AUTOTUNE\n",
    "\n",
    "batch_size = 3\n",
    "IMG_HEIGHT = 500\n",
    "IMG_WIDTH  = 500\n",
    "\n",
    "Bat_Computer = True\n",
    "if(Bat_Computer):\n",
    "    projects_path = '/home/ibrahim/Projects/Self_Maneuvering_UGV/'\n",
    "\n",
    "else:\n",
    "    projects_path = '/home/ibrahim/Projects/Self_Maneuvering_UGV/'\n",
    "\n",
    "\n",
    "images_path = '/home/ibrahim/Projects/Datasets/FYP_Self_Driving_UGV/AirSim/Take 1-20210123T061655Z-001/Take 1/images/'\n",
    "\n",
    "csv_path    = '/home/ibrahim/Projects/Datasets/FYP_Self_Driving_UGV/AirSim/Take 1-20210123T061655Z-001/Take 1/airsim_rec.txt'\n",
    "\n",
    "models_path = '/home/ibrahim/Projects/Self_Maneuvering_UGV/TF'"
   ]
  },
  {
   "cell_type": "code",
   "execution_count": 11,
   "metadata": {},
   "outputs": [
    {
     "output_type": "stream",
     "name": "stdout",
     "text": [
      "Index(['TimeStamp', 'POS_X', 'POS_Y', 'POS_Z', 'Q_W', 'Q_X', 'Q_Y', 'Q_Z',\n       'Throttle', 'Steering', 'Brake', 'Gear', 'Handbrake', 'RPM', 'Speed',\n       'ImageFile'],\n      dtype='object')\n0    img__0_1609577933677259300.png\n1    img__0_1609577933755629500.png\n2    img__0_1609577933852112100.png\nName: ImageFile, dtype: object\n/home/ibrahim/Projects/Datasets/FYP_Self_Driving_UGV/AirSim/Take 1-20210123T061655Z-001/Take 1/images/img__0_1609577933677259300.png\n0.0\n"
     ]
    }
   ],
   "source": [
    "csv_file = pd.read_csv(csv_path, sep=\"\\t\")\n",
    "# csv_file.columns = [\"a\", \"b\", \"c\", \"etc.\"]\n",
    "print(csv_file.columns)\n",
    "print(csv_file.head(3)['ImageFile'])\n",
    "\n",
    "image_names =  images_path +  csv_file['ImageFile'] \n",
    "steering_angles = csv_file['Steering']\n",
    "print(image_names[0])\n",
    "print(steering_angles[0])\n"
   ]
  },
  {
   "cell_type": "code",
   "execution_count": 12,
   "metadata": {},
   "outputs": [
    {
     "output_type": "execute_result",
     "data": {
      "text/plain": [
       "(1094,)"
      ]
     },
     "metadata": {},
     "execution_count": 12
    }
   ],
   "source": [
    "steering_angles.shape"
   ]
  },
  {
   "cell_type": "code",
   "execution_count": 13,
   "metadata": {},
   "outputs": [
    {
     "output_type": "stream",
     "name": "stdout",
     "text": [
      "Tensor(\"ReadFile:0\", shape=(), dtype=string)\n",
      "(500, 500, 1)\n"
     ]
    }
   ],
   "source": [
    "# Not Using prefetching here && TF sucks !!\n",
    "\n",
    "dataset = tf.data.Dataset.from_tensor_slices((image_names,steering_angles))\n",
    "\n",
    "def load_images(filename, target):\n",
    "    img = tf.io.read_file(filename)\n",
    "    print(img)\n",
    "    img = tf.image.decode_jpeg(img, channels=3)\n",
    "    # img = img[150:][150:]\n",
    "    # img = img.numpy()\n",
    "\n",
    "    return img, target\n",
    "\n",
    "def image_augmentations(image, label):\n",
    "    # Change to grayscale:\n",
    "    max_delta = 0.8\n",
    "    image = tf.image.rgb_to_grayscale(image)\n",
    "    image = tf.image.random_brightness(image, max_delta, seed=None)\n",
    "    image = tf.image.resize(image, size=(IMG_HEIGHT,IMG_WIDTH))\n",
    "    return image, label\n",
    "\n",
    "# Note: DO NOT USE MAPPING FOR ANY OTHER CHILD SETS CREATED\n",
    "\n",
    "dataset = (\n",
    "  dataset\n",
    "  .map(load_images,num_parallel_calls=AUTOTUNE) #can use parrallelism as second output\n",
    "  .map(image_augmentations,num_parallel_calls=AUTOTUNE) \n",
    "  # .shuffle(1000)  #Input must be = the number of total imgs\n",
    ")\n",
    "shape = 0\n",
    "for image, label in dataset.take(5):\n",
    "  # print(\"Image shape: \", image.numpy().shape)\n",
    "  # print(\"Label: \", label.numpy())\n",
    "  image = image.numpy()\n",
    "  cv2.imshow('frame',image)\n",
    "  shape = image.shape\n",
    "  cv2.waitKey(0)\n",
    "\n",
    "print(shape)\n",
    "cv2.destroyAllWindows()\n"
   ]
  },
  {
   "cell_type": "code",
   "execution_count": 14,
   "metadata": {},
   "outputs": [],
   "source": [
    "# Improve input pipeline performance by using prefetching etc\n",
    "\n",
    "train_ds = dataset\n",
    " #change according to hardware auqat\n",
    "\n",
    "# train_ds = train_ds.cache().prefetch(buffer_size=AUTOTUNE)\n",
    "\n",
    "def configure_for_performance(ds):\n",
    "  ds = ds.cache()\n",
    "#   ds = ds.shuffle(buffer_size=1000)\n",
    "  ds = ds.batch(batch_size)\n",
    "  ds = ds.prefetch(buffer_size=AUTOTUNE)\n",
    "  return ds\n",
    "\n",
    "\n",
    "train_ds = configure_for_performance(train_ds)\n",
    "\n"
   ]
  },
  {
   "cell_type": "code",
   "execution_count": 15,
   "metadata": {},
   "outputs": [],
   "source": [
    "image_batch, label_batch = next(iter(train_ds))\n",
    "\n",
    "# for i in range(3):\n",
    "#   ax = plt.subplot(3, 3, i + 1)\n",
    "#   plt.imshow(image_batch[i].numpy().astype(\"uint8\"), cmap = \"gray\")\n",
    "#   label = label_batch[i]\n",
    "# #   plt.title(class_names[label])\n",
    "#   plt.axis(\"off\")\n",
    "\n"
   ]
  },
  {
   "cell_type": "code",
   "execution_count": 16,
   "metadata": {},
   "outputs": [
    {
     "output_type": "stream",
     "name": "stdout",
     "text": [
      "Model: \"sequential_1\"\n_________________________________________________________________\nLayer (type)                 Output Shape              Param #   \n=================================================================\nconv2d_3 (Conv2D)            (None, 498, 498, 32)      320       \n_________________________________________________________________\nmax_pooling2d_2 (MaxPooling2 (None, 249, 249, 32)      0         \n_________________________________________________________________\nconv2d_4 (Conv2D)            (None, 247, 247, 64)      18496     \n_________________________________________________________________\nmax_pooling2d_3 (MaxPooling2 (None, 123, 123, 64)      0         \n_________________________________________________________________\nconv2d_5 (Conv2D)            (None, 121, 121, 64)      36928     \n_________________________________________________________________\nflatten_1 (Flatten)          (None, 937024)            0         \n_________________________________________________________________\ndense_2 (Dense)              (None, 64)                59969600  \n_________________________________________________________________\ndense_3 (Dense)              (None, 1)                 65        \n=================================================================\nTotal params: 60,025,409\nTrainable params: 60,025,409\nNon-trainable params: 0\n_________________________________________________________________\n"
     ]
    }
   ],
   "source": [
    "\n",
    "os.chdir(models_path)\n",
    "from tensorflow.keras.layers import Conv2D, MaxPool2D\n",
    "from tensorflow.keras import Sequential\n",
    "from tensorflow.keras import datasets, layers, models\n",
    "\n",
    "custom_model_2 = models.Sequential()\n",
    "custom_model_2.add(layers.Conv2D(32, (3, 3), activation='relu', input_shape=(IMG_HEIGHT, IMG_WIDTH, 1)))\n",
    "custom_model_2.add(layers.MaxPooling2D((2, 2)))\n",
    "custom_model_2.add(layers.Conv2D(64, (3, 3), activation='relu'))\n",
    "custom_model_2.add(layers.MaxPooling2D((2, 2)))\n",
    "custom_model_2.add(layers.Conv2D(64, (3, 3), activation='relu'))\n",
    "custom_model_2.add(layers.Flatten())\n",
    "custom_model_2.add(layers.Dense(64, activation='relu'))\n",
    "custom_model_2.add(layers.Dense(1))\n",
    "\n",
    "custom_model_2.compile(\n",
    "  optimizer='adam',\n",
    "  loss='mse',\n",
    "  )\n",
    "\n",
    "custom_model_2.summary()\n"
   ]
  },
  {
   "cell_type": "code",
   "execution_count": 17,
   "metadata": {},
   "outputs": [
    {
     "output_type": "stream",
     "name": "stdout",
     "text": [
      "365/365 [==============================] - 371s 1s/step - loss: 276520.4375\n"
     ]
    },
    {
     "output_type": "execute_result",
     "data": {
      "text/plain": [
       "<tensorflow.python.keras.callbacks.History at 0x7f54d90fcb50>"
      ]
     },
     "metadata": {},
     "execution_count": 17
    }
   ],
   "source": [
    "custom_model_2.fit(\n",
    "  train_ds,\n",
    "  epochs=1\n",
    ")"
   ]
  },
  {
   "cell_type": "code",
   "execution_count": null,
   "metadata": {},
   "outputs": [],
   "source": []
  }
 ]
}