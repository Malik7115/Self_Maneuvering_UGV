{
 "metadata": {
  "language_info": {
   "codemirror_mode": {
    "name": "ipython",
    "version": 3
   },
   "file_extension": ".py",
   "mimetype": "text/x-python",
   "name": "python",
   "nbconvert_exporter": "python",
   "pygments_lexer": "ipython3",
   "version": "3.8.5-final"
  },
  "orig_nbformat": 2,
  "kernelspec": {
   "name": "python38564bit31ab2a2e0387470b83c33ce2c4d74f55",
   "display_name": "Python 3.8.5 64-bit"
  }
 },
 "nbformat": 4,
 "nbformat_minor": 2,
 "cells": [
  {
   "cell_type": "code",
   "execution_count": 89,
   "metadata": {},
   "outputs": [
    {
     "output_type": "execute_result",
     "data": {
      "text/plain": [
       "'/home/ibrahim/Projects/Datasets/Ch2_001'"
      ]
     },
     "metadata": {},
     "execution_count": 89
    }
   ],
   "source": [
    "import cv2\n",
    "import numpy as np\n",
    "import torch\n",
    "import torchvision\n",
    "from torch.utils.data import Dataset, DataLoader\n",
    "from torchvision import transforms, utils\n",
    "import os\n",
    "import scipy\n",
    "from skimage import io, transform\n",
    "from math import sin\n",
    "from math import cos\n",
    "from math import radians\n",
    "import pandas as pd\n",
    "\n",
    "\n",
    "\n",
    "images_path   = \"/home/ibrahim/Projects/Datasets/Ch2_001/center/\"\n",
    "dataset_path  = \"/home/ibrahim/Projects/Datasets/Ch2_001/\"\n",
    "projects_path = \"/home/ibrahim/Projects/Self_Maneuvering_UGV/\"\n",
    "\n",
    "os.chdir(dataset_path)\n",
    "os.getcwd()\n"
   ]
  },
  {
   "cell_type": "code",
   "execution_count": 90,
   "metadata": {},
   "outputs": [],
   "source": [
    "# Car Dataset Creator Class:\n",
    "class carCam(Dataset):\n",
    "    def __init__(self, csv_file, root_dir, transform = None):\n",
    "        self.csv_file = pd.read_csv(csv_file)\n",
    "        self.root_dir = root_dir\n",
    "        self.transform = transform\n",
    "\n",
    "    def __len__(self):\n",
    "        return len(self.csv_file)\n",
    "\n",
    "    def __getitem__(self, idx):\n",
    "        if torch.is_tensor(idx):\n",
    "            idx = idx.tolist()\n",
    "\n",
    "        image_name = os.path.join(self.root_dir + 'center',\n",
    "                                  str(self.csv_file.iloc[idx,0]) + '.jpg')\n",
    "        \n",
    "        image = cv2.imread(image_name)\n",
    "        steering_angle = self.csv_file.iloc[idx,1]\n",
    "\n",
    "        if self.transform:\n",
    "            image = self.transform(image)   \n",
    "        sample = {\"image\": image, \"steering_angle\": steering_angle}\n",
    "\n",
    "        return sample\n",
    "\n",
    "\n",
    "# Transform Dataset Class:\n",
    "class CropTransform(object):\n",
    "    def __init__(self, x, y):\n",
    "        self.x = x\n",
    "        self.y = y\n",
    "        pass\n",
    "\n",
    "    def __call__(self, image):\n",
    "        return (image[self.x:, self.y:])"
   ]
  },
  {
   "cell_type": "code",
   "execution_count": 92,
   "metadata": {},
   "outputs": [
    {
     "output_type": "execute_result",
     "data": {
      "text/plain": [
       "              frame_id  steering_angle\n",
       "0  1479425441182877835       -0.373665\n",
       "1  1479425441232704425       -0.065396\n",
       "2  1479425441282730750       -0.160735"
      ],
      "text/html": "<div>\n<style scoped>\n    .dataframe tbody tr th:only-of-type {\n        vertical-align: middle;\n    }\n\n    .dataframe tbody tr th {\n        vertical-align: top;\n    }\n\n    .dataframe thead th {\n        text-align: right;\n    }\n</style>\n<table border=\"1\" class=\"dataframe\">\n  <thead>\n    <tr style=\"text-align: right;\">\n      <th></th>\n      <th>frame_id</th>\n      <th>steering_angle</th>\n    </tr>\n  </thead>\n  <tbody>\n    <tr>\n      <th>0</th>\n      <td>1479425441182877835</td>\n      <td>-0.373665</td>\n    </tr>\n    <tr>\n      <th>1</th>\n      <td>1479425441232704425</td>\n      <td>-0.065396</td>\n    </tr>\n    <tr>\n      <th>2</th>\n      <td>1479425441282730750</td>\n      <td>-0.160735</td>\n    </tr>\n  </tbody>\n</table>\n</div>"
     },
     "metadata": {},
     "execution_count": 92
    }
   ],
   "source": [
    "crop = CropTransform(150, 0)\n",
    "\n",
    "car_cam = carCam(csv_file = dataset_path + 'final_example.csv',\n",
    "                 root_dir = dataset_path, transform = Crop(150,0))\n",
    "\n",
    "for i in range(500):\n",
    "    sample = car_cam[i]\n",
    "    # print(sample[\"steering_angle\"])\n",
    "    cv2.imshow(\"frame\",sample[\"image\"])\n",
    "    cv2.waitKey(1)\n",
    "    \n",
    "\n",
    "cv2.destroyAllWindows()\n",
    "car_cam.csv_file.head(3)"
   ]
  },
  {
   "cell_type": "code",
   "execution_count": 94,
   "metadata": {},
   "outputs": [],
   "source": [
    "dataloader = DataLoader(car_cam, batch_size=4,\n",
    "                        shuffle=False, num_workers=4)"
   ]
  },
  {
   "cell_type": "code",
   "execution_count": 101,
   "metadata": {
    "tags": []
   },
   "outputs": [
    {
     "output_type": "stream",
     "name": "stdout",
     "text": [
      "984906\n"
     ]
    }
   ],
   "source": [
    "def showCarData(sample_batched):\n",
    "    images_b, steering_b = \\\n",
    "        sample_batched['image'], sample_batched['steering_angle']\n",
    "\n",
    "    bs = len(images_b)\n",
    "\n",
    "    for i in range(bs):\n",
    "        cv2.imshow(\"frame\", images_b[i].numpy())\n",
    "        cv2.waitKey(1)\n",
    "\n",
    "count = 0\n",
    "for i, sample_batched in enumerate(dataloader):\n",
    "    showCarData(sample_batched)\n",
    "    count += i\n",
    "\n",
    "print(count)\n",
    "cv2.destroyAllWindows()"
   ]
  },
  {
   "cell_type": "code",
   "execution_count": null,
   "metadata": {},
   "outputs": [],
   "source": []
  }
 ]
}