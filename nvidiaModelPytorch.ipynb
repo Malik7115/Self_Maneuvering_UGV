{
 "metadata": {
  "language_info": {
   "codemirror_mode": {
    "name": "ipython",
    "version": 3
   },
   "file_extension": ".py",
   "mimetype": "text/x-python",
   "name": "python",
   "nbconvert_exporter": "python",
   "pygments_lexer": "ipython3",
   "version": "3.6.9-final"
  },
  "orig_nbformat": 2,
  "kernelspec": {
   "name": "python3",
   "display_name": "Python 3.6.9 64-bit",
   "metadata": {
    "interpreter": {
     "hash": "9c31bbc6f04e7d2e02ca551e26f066aacf7b13ab82fc34c7611035076cefdab5"
    }
   }
  }
 },
 "nbformat": 4,
 "nbformat_minor": 2,
 "cells": [
  {
   "cell_type": "code",
   "execution_count": 30,
   "metadata": {},
   "outputs": [
    {
     "output_type": "execute_result",
     "data": {
      "text/plain": [
       "'/home/ibrahim/Environments/TF/Self_Maneuvering_UGV'"
      ]
     },
     "metadata": {},
     "execution_count": 30
    }
   ],
   "source": [
    "import cv2\n",
    "import numpy as np\n",
    "import torch\n",
    "from torch import tensor\n",
    "import torch.nn as nn\n",
    "import torch.nn.functional as F\n",
    "import torch.optim as optim\n",
    "import os\n",
    "import scipy\n",
    "from math import sin\n",
    "from math import cos\n",
    "from math import radians\n",
    "from tqdm import tqdm\n",
    "import math\n",
    "projects_path = \"/home/ibrahim//Environments/TF/Self_Maneuvering_UGV/\"\n",
    "\n",
    "os.chdir(projects_path)\n",
    "os.getcwd()\n",
    "\n",
    "\n"
   ]
  },
  {
   "cell_type": "code",
   "execution_count": 2,
   "metadata": {},
   "outputs": [
    {
     "output_type": "stream",
     "name": "stdout",
     "text": [
      "CUDA\n"
     ]
    }
   ],
   "source": [
    "if (torch.cuda.is_available()):\n",
    "    device =torch.device(\"cuda:0\")\n",
    "    print(\"CUDA\")\n",
    "\n",
    "else:\n",
    "    device = torch.device(\"cpu\")\n",
    "    print(\"CPU\")"
   ]
  },
  {
   "cell_type": "code",
   "execution_count": 57,
   "metadata": {},
   "outputs": [
    {
     "output_type": "stream",
     "name": "stdout",
     "text": [
      "Linear(in_features=10, out_features=1, bias=True)\n"
     ]
    }
   ],
   "source": [
    "del model\n",
    "model = torch.nn.Sequential(\n",
    "\n",
    "        torch.nn.Conv2d(3,  24, stride=(2,2), kernel_size = (5,5), bias=1),\n",
    "        torch.nn.ReLU(),\n",
    "        torch.nn.Conv2d(24, 36, stride=(2,2), kernel_size = (5,5), bias=1),\n",
    "        torch.nn.ReLU(),\n",
    "        torch.nn.Conv2d(36, 48, stride=(2,2), kernel_size = (5,5), bias=1),\n",
    "        torch.nn.ReLU(),\n",
    "\n",
    "        torch.nn.Conv2d(48, 64, stride=(1,1), kernel_size = (3,3), bias=1),\n",
    "        torch.nn.ReLU(),\n",
    "        torch.nn.Conv2d(64, 64, stride=(1,1), kernel_size = (3,3), bias=1),\n",
    "        torch.nn.ReLU(),\n",
    "        \n",
    "        torch.nn.Flatten(),\n",
    "\n",
    "        torch.nn.Linear(27456, 100, bias=1),\n",
    "        torch.nn.ReLU(),\n",
    "        torch.nn.Linear(100, 50, bias=1),\n",
    "        torch.nn.ReLU(),\n",
    "        torch.nn.Linear(50, 10, bias=1),\n",
    "        torch.nn.ReLU(),\n",
    "        torch.nn.Linear(10, 1, bias=1),\n",
    ")\n",
    "\n",
    "model.to(device)\n",
    "\n",
    "optimizer = optim.Adam(model.parameters(), lr=0.0001)\n",
    "loss_function = nn.MSELoss()\n",
    "\n",
    "print(model[-1])"
   ]
  },
  {
   "cell_type": "code",
   "execution_count": 9,
   "metadata": {},
   "outputs": [],
   "source": [
    "tensor_path = projects_path + \"saved_tensors\"\n",
    "os.chdir(tensor_path)\n",
    "os.getcwd()\n",
    "os.listdir()\n",
    "\n",
    "dataset_t = torch.load('datasetTensor.pt')\n",
    "targets_t = torch.load('targetTensor.pt')\n",
    "\n",
    "dataset_t = dataset_t.float()\n",
    "targets_t = targets_t.float()"
   ]
  },
  {
   "cell_type": "code",
   "execution_count": 23,
   "metadata": {},
   "outputs": [],
   "source": [
    "image = dataset_t[0].numpy()\n",
    "dataset_t[0].shape\n",
    "cv2.imshow(\"frame\", image)\n",
    "cv2.waitKey()\n",
    "cv2.destroyAllWindows()"
   ]
  },
  {
   "cell_type": "code",
   "execution_count": 24,
   "metadata": {},
   "outputs": [
    {
     "output_type": "stream",
     "name": "stdout",
     "text": [
      "torch.Size([8000, 160, 320, 3])\n"
     ]
    }
   ],
   "source": [
    "dataset_t = dataset_t/255.0\n",
    "print(dataset_t.shape)\n",
    "\n",
    "dataset_t = dataset_t.permute(0, 3, 1, 2)"
   ]
  },
  {
   "cell_type": "code",
   "execution_count": 58,
   "metadata": {
    "tags": []
   },
   "outputs": [
    {
     "output_type": "stream",
     "name": "stderr",
     "text": [
      "100%|██████████| 80/80 [00:06<00:00, 11.46it/s]\n",
      "  2%|▎         | 2/80 [00:00<00:05, 13.37it/s]Epoch: 0. acuracy: 0.085375  Loss: 0.6842225193977356\n",
      "100%|██████████| 80/80 [00:07<00:00, 11.40it/s]\n",
      "  2%|▎         | 2/80 [00:00<00:05, 13.64it/s]Epoch: 1. acuracy: 0.055125  Loss: 0.667602002620697\n",
      "100%|██████████| 80/80 [00:07<00:00, 11.42it/s]\n",
      "  2%|▎         | 2/80 [00:00<00:06, 12.88it/s]Epoch: 2. acuracy: 0.052125  Loss: 0.6680131554603577\n",
      "100%|██████████| 80/80 [00:07<00:00, 11.42it/s]\n",
      "  2%|▎         | 2/80 [00:00<00:05, 13.12it/s]Epoch: 3. acuracy: 0.0525  Loss: 0.6673186421394348\n",
      "100%|██████████| 80/80 [00:07<00:00, 11.40it/s]\n",
      "Epoch: 4. acuracy: 0.0585  Loss: 0.6658434271812439\n"
     ]
    }
   ],
   "source": [
    "BATCH_SIZE = 100\n",
    "EPOCHS = 5\n",
    "epsilon = 0.01\n",
    "#TODO shuffle dataset\n",
    "\n",
    "for epoch in range(EPOCHS):\n",
    "    running_loss = 0\n",
    "    accuracy = 0\n",
    "    total = 0\n",
    "    for i in tqdm(range(0, 8000, BATCH_SIZE)): # from 0, to the len of x, stepping BATCH_SIZE at a time. [:50] ..for now just to dev\n",
    "        #print(f\"{i}:{i+BATCH_SIZE}\")\n",
    "        batch_X = dataset_t[i:i+BATCH_SIZE].to(device)\n",
    "        batch_y = targets_t[i:i+BATCH_SIZE].to(device)\n",
    "\n",
    "        model.zero_grad()\n",
    "\n",
    "        outputs = model(batch_X)\n",
    "\n",
    "        with torch.no_grad():\n",
    "            for j in range(len(batch_y)):\n",
    "                total +=1\n",
    "                if(abs(outputs[j] - batch_y[j]) < epsilon):\n",
    "                    accuracy+=1\n",
    "                    \n",
    "        loss = loss_function(outputs, batch_y)\n",
    "        loss.backward()\n",
    "        optimizer.step()    # Does the update\n",
    "        running_loss += loss * i\n",
    "\n",
    "    print(f\"Epoch: {epoch}. acuracy: {accuracy/total}  Loss: {running_loss/8000}\")\n"
   ]
  },
  {
   "cell_type": "code",
   "execution_count": 59,
   "metadata": {},
   "outputs": [
    {
     "output_type": "stream",
     "name": "stdout",
     "text": [
      "tensor(0.0618)\ntensor(0.1862)\ntorch.Size([1, 3, 160, 320])\ntensor([[-0.0440]], grad_fn=<AddmmBackward>)\ntensor([[-0.0440]], grad_fn=<AddmmBackward>)\n"
     ]
    }
   ],
   "source": [
    "test1 = dataset_t[1006].unsqueeze(0)\n",
    "test2 = dataset_t[1008].unsqueeze(0)\n",
    "\n",
    "print(targets_t[1006])\n",
    "print(targets_t[1008])\n",
    "\n",
    "model.to(\"cpu\")\n",
    "print(test.shape)\n",
    "print(model(test1))\n",
    "print(model(test2))\n"
   ]
  },
  {
   "cell_type": "code",
   "execution_count": 60,
   "metadata": {},
   "outputs": [
    {
     "output_type": "error",
     "ename": "NameError",
     "evalue": "name 'targets' is not defined",
     "traceback": [
      "\u001b[0;31m---------------------------------------------------------------------------\u001b[0m",
      "\u001b[0;31mNameError\u001b[0m                                 Traceback (most recent call last)",
      "\u001b[0;32m<ipython-input-60-f5359731d309>\u001b[0m in \u001b[0;36m<module>\u001b[0;34m\u001b[0m\n\u001b[1;32m      1\u001b[0m \u001b[0mcount\u001b[0m \u001b[0;34m=\u001b[0m \u001b[0;36m0\u001b[0m\u001b[0;34m\u001b[0m\u001b[0;34m\u001b[0m\u001b[0m\n\u001b[1;32m      2\u001b[0m \u001b[0;32mfor\u001b[0m \u001b[0mi\u001b[0m \u001b[0;32min\u001b[0m \u001b[0mrange\u001b[0m\u001b[0;34m(\u001b[0m\u001b[0mlen\u001b[0m\u001b[0;34m(\u001b[0m\u001b[0mtargets_t\u001b[0m\u001b[0;34m)\u001b[0m\u001b[0;34m)\u001b[0m\u001b[0;34m:\u001b[0m\u001b[0;34m\u001b[0m\u001b[0;34m\u001b[0m\u001b[0m\n\u001b[0;32m----> 3\u001b[0;31m     \u001b[0;32mif\u001b[0m \u001b[0;34m(\u001b[0m\u001b[0mtargets\u001b[0m\u001b[0;34m[\u001b[0m\u001b[0mi\u001b[0m\u001b[0;34m]\u001b[0m \u001b[0;34m!=\u001b[0m \u001b[0;36m0\u001b[0m\u001b[0;34m)\u001b[0m\u001b[0;34m:\u001b[0m\u001b[0;34m\u001b[0m\u001b[0;34m\u001b[0m\u001b[0m\n\u001b[0m\u001b[1;32m      4\u001b[0m         \u001b[0mcount\u001b[0m \u001b[0;34m+=\u001b[0m \u001b[0;36m1\u001b[0m\u001b[0;34m\u001b[0m\u001b[0;34m\u001b[0m\u001b[0m\n\u001b[1;32m      5\u001b[0m \u001b[0;34m\u001b[0m\u001b[0m\n",
      "\u001b[0;31mNameError\u001b[0m: name 'targets' is not defined"
     ]
    }
   ],
   "source": [
    "count = 0\n",
    "for i in range(len(targets_t)):\n",
    "    if (targets[i] != 0):\n",
    "        count += 1\n",
    "\n",
    "print(count)\n"
   ]
  },
  {
   "cell_type": "code",
   "execution_count": null,
   "metadata": {},
   "outputs": [],
   "source": []
  }
 ]
}